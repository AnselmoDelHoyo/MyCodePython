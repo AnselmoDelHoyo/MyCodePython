{
 "cells": [
  {
   "cell_type": "markdown",
   "id": "d4bcc2cd",
   "metadata": {},
   "source": [
    "# Definimos una varible"
   ]
  },
  {
   "cell_type": "code",
   "execution_count": 4,
   "id": "ca5cb2c0",
   "metadata": {},
   "outputs": [
    {
     "name": "stdout",
     "output_type": "stream",
     "text": [
      "Anselmo\n"
     ]
    }
   ],
   "source": [
    "nombre = \"Anselmo\"\n",
    "print(nombre)"
   ]
  },
  {
   "cell_type": "code",
   "execution_count": 5,
   "id": "ac644d7b",
   "metadata": {},
   "outputs": [
    {
     "name": "stdout",
     "output_type": "stream",
     "text": [
      "Esta es una cadena de texto\n"
     ]
    }
   ],
   "source": [
    "print(\"Esta es una cadena de texto\")"
   ]
  },
  {
   "cell_type": "code",
   "execution_count": 7,
   "id": "f8839048",
   "metadata": {},
   "outputs": [
    {
     "name": "stdout",
     "output_type": "stream",
     "text": [
      "<class 'int'>\n"
     ]
    }
   ],
   "source": [
    "print(type(12323))"
   ]
  }
 ],
 "metadata": {
  "kernelspec": {
   "display_name": "Python 3",
   "language": "python",
   "name": "python3"
  },
  "language_info": {
   "codemirror_mode": {
    "name": "ipython",
    "version": 3
   },
   "file_extension": ".py",
   "mimetype": "text/x-python",
   "name": "python",
   "nbconvert_exporter": "python",
   "pygments_lexer": "ipython3",
   "version": "3.12.4"
  }
 },
 "nbformat": 4,
 "nbformat_minor": 5
}
